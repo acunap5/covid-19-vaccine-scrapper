{
 "cells": [
  {
   "cell_type": "code",
   "execution_count": 115,
   "metadata": {},
   "outputs": [],
   "source": [
    "from selenium import webdriver\n",
    "import time\n",
    "from playsound import playsound\n",
    "from datetime import datetime"
   ]
  },
  {
   "cell_type": "code",
   "execution_count": null,
   "metadata": {},
   "outputs": [
    {
     "name": "stderr",
     "output_type": "stream",
     "text": [
      "<ipython-input-116-228181c77fa5>:11: DeprecationWarning: use options instead of chrome_options\n",
      "  browser = webdriver.Chrome(executable_path='./chromedriver', chrome_options=options)\n"
     ]
    },
    {
     "name": "stdout",
     "output_type": "stream",
     "text": [
      "Rite Aid - 60 Franklin Turnpike, Waldwick, NJ 07463\n"
     ]
    }
   ],
   "source": [
    "#set of previous scrape\n",
    "last_set = set()\n",
    "\n",
    "while True:\n",
    "    \n",
    "    #change url to your vaccinespotter site parameters, to find go on vaccinefinder.org\n",
    "    url = 'https://www.vaccinespotter.org/NJ/?zip=07003&radius=25'\n",
    "    options = webdriver.ChromeOptions()\n",
    "    options.add_argument(\" - incognito\")\n",
    "    options.add_argument(\"--headless\")\n",
    "    browser = webdriver.Chrome(executable_path='./chromedriver', chrome_options=options)\n",
    "    browser.get(url)\n",
    "    \n",
    "    #sleeps to load\n",
    "    time.sleep(1) \n",
    "    \n",
    "    #finds all available locations and if its not found in the previous scrape: Print and Play Sound\n",
    "    vaccine_cards = browser.find_elements_by_xpath(\"//div[@class='card mb-4 location-result']\")\n",
    "    new_set = set()\n",
    "    for place in vaccine_cards:\n",
    "        loc = place.find_element_by_tag_name(\"h5\").text\n",
    "        if loc not in last_set and loc not in new_set:\n",
    "            print(loc)\n",
    "            playsound('alarm.wav')\n",
    "        new_set.add(loc)\n",
    "    last_set = new_set\n",
    "    \n",
    "    #closes tab to start a new one in the next iteration\n",
    "    browser.quit()\n"
   ]
  },
  {
   "cell_type": "code",
   "execution_count": null,
   "metadata": {},
   "outputs": [],
   "source": []
  }
 ],
 "metadata": {
  "kernelspec": {
   "display_name": "Python 3",
   "language": "python",
   "name": "python3"
  },
  "language_info": {
   "codemirror_mode": {
    "name": "ipython",
    "version": 3
   },
   "file_extension": ".py",
   "mimetype": "text/x-python",
   "name": "python",
   "nbconvert_exporter": "python",
   "pygments_lexer": "ipython3",
   "version": "3.8.5"
  }
 },
 "nbformat": 4,
 "nbformat_minor": 4
}
